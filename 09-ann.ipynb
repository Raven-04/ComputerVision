{
 "cells": [
  {
   "cell_type": "code",
   "execution_count": 76,
   "id": "a7312f5a-1159-47d3-9c85-a1ec2ac1136c",
   "metadata": {},
   "outputs": [],
   "source": [
    "#!pip install torch torchvision\n",
    "import torch\n",
    "from torch import nn\n",
    "from torch import optim\n",
    "from torch.utils.data import Dataset\n",
    "from torch.utils.data import DataLoader\n",
    "from torchvision import datasets\n",
    "from torchvision import transforms\n",
    "from torchvision.transforms import ToTensor\n",
    "\n",
    "import numpy as np\n",
    "from matplotlib import pyplot as plt\n",
    "\n",
    "from IPython.display import Markdown"
   ]
  },
  {
   "cell_type": "markdown",
   "id": "cf42e727-fc4d-40ca-a9d3-a38a81916e90",
   "metadata": {},
   "source": [
    "# PyTorch"
   ]
  },
  {
   "cell_type": "markdown",
   "id": "01999463-c74a-4ffd-9b5b-a29d437d3cd8",
   "metadata": {},
   "source": [
    "PyTorch is an open source machine learning library based on the Torch library, used for applications such as computer vision and natural language processing, primarily developed by Facebook's AI Research lab. It is free and open-source software released under the Modified BSD license"
   ]
  },
  {
   "cell_type": "markdown",
   "id": "2b99098e-2884-4d30-b2e2-a33edfce45c7",
   "metadata": {},
   "source": [
    "## PyTorch Tensors\n",
    "Tensors are a specialized data structure that are very similar to arrays and matrices. In PyTorch, we use tensors to encode the inputs ($x$) and outputs ($y$) of a model, as well as the model’s parameters (weights).\n",
    "\n",
    "Tensors are similar to NumPy’s ndarrays, except that tensors can run on GPUs or other hardware accelerators. In fact, tensors and NumPy arrays can often share the same underlying memory, eliminating the need to copy data. \n",
    "\n",
    "[Additional Reading](https://pytorch.org/tutorials/beginner/basics/tensor_tutorial.html)"
   ]
  },
  {
   "cell_type": "code",
   "execution_count": 4,
   "id": "78d42989-1288-46a5-b968-ba0d25fe0762",
   "metadata": {},
   "outputs": [
    {
     "name": "stdout",
     "output_type": "stream",
     "text": [
      "torch.int64\n",
      "torch.float16\n",
      "tensor([[1, 1]])\n"
     ]
    }
   ],
   "source": [
    "a = np.array([[1,2],[3,4]])\n",
    "t1 = torch.tensor(a)\n",
    "t2 = torch.from_numpy(a)\n",
    "t3 = torch.tensor([[1,2]])\n",
    "print(t3.dtype)\n",
    "t4 = torch.tensor([[2,3]], dtype=torch.float16)\n",
    "print(t4.dtype)\n",
    "\n",
    "t5 = torch.ones_like(t3)\n",
    "print(t5)"
   ]
  },
  {
   "cell_type": "markdown",
   "id": "4a7d6af3-1170-4728-b917-e2eb9de616c8",
   "metadata": {},
   "source": [
    "## Pytorch AutoGrad"
   ]
  },
  {
   "cell_type": "code",
   "execution_count": 5,
   "id": "0b5154d6-67a0-488a-81ba-9a2a4d637793",
   "metadata": {},
   "outputs": [
    {
     "name": "stdout",
     "output_type": "stream",
     "text": [
      "tensor([7.])\n"
     ]
    }
   ],
   "source": [
    "x = torch.tensor([2.0], requires_grad=True)\n",
    "y = x ** 2 + 3 * x + 1\n",
    "y.backward()\n",
    "print(x.grad) # gradient of y w.r.t x at x=2"
   ]
  },
  {
   "cell_type": "markdown",
   "id": "91facfbe-d50d-434d-8bf6-f7b9f1c5a2e6",
   "metadata": {},
   "source": [
    "## Perceptron\n",
    "Build a perceptron featuring three inputs and a single output. Initialize all weights ($𝑤_0$, $𝑤_2$, $𝑤_3$) to 1, considering a bias term. Take a training data point, 𝑥1=4, 𝑥2=-1, and 𝑦=1. Employ the backpropagation algorithm to demonstrate how this neural network evolves during the processing of the given training example. Set the learning rate (𝛼) to 0.5 and utilize the squared loss function."
   ]
  },
  {
   "cell_type": "code",
   "execution_count": 6,
   "id": "0e0ba6b1-45f8-400f-9452-c021577f1110",
   "metadata": {},
   "outputs": [
    {
     "name": "stdout",
     "output_type": "stream",
     "text": [
      "Forward Pass, h= 3.0\n",
      "Backward pass, Derivatives= tensor([ 4., 16., -8.])\n",
      "Weights update, w= tensor([-1., -7.,  5.], grad_fn=<SubBackward0>)\n"
     ]
    }
   ],
   "source": [
    "x = torch.tensor([1., 4., -2.]) \n",
    "y = torch.tensor([1.]) \n",
    "w = torch.tensor([1., 1., 1.], requires_grad=True)\n",
    "h = torch.matmul(w,x)           # 1. forward pass\n",
    "print(f'Forward Pass, h= {h}')\n",
    "J = (h-y)**2 # Squared loss\n",
    "J.backward()                    # 2. backward pass\n",
    "print(f'Backward pass, Derivatives= {w.grad}')\n",
    "w = w - 0.5*w.grad # alpha is 0.5 here   #  3.  Update the weights\n",
    "print(f'Weights update, w= {w}')"
   ]
  },
  {
   "cell_type": "code",
   "execution_count": 7,
   "id": "53baa6fb-2568-4ee4-9a51-4426ef037ecb",
   "metadata": {},
   "outputs": [
    {
     "name": "stdout",
     "output_type": "stream",
     "text": [
      "Forward Pass, h= Linear(in_features=2, out_features=1, bias=True)\n",
      "Backward pass, Derivatives= tensor([[4.]]) tensor([[16., -8.]])\n",
      "Weights update, w= [[-1.]] [[-7.  5.]]\n"
     ]
    }
   ],
   "source": [
    "# Using PyTorch Optimizer\n",
    "x = torch.tensor([[4., -2.]]) \n",
    "y = torch.tensor([[1.]]) \n",
    "h = nn.Linear(2, 1, bias=True) # h = w x + b\n",
    "h.weight = nn.Parameter(torch.tensor([[1., 1.]]))  \n",
    "h.bias = nn.Parameter(torch.tensor([[1.]]))  \n",
    "\n",
    "optimizer = optim.SGD(h.parameters(), lr = .5) # gradient descent with learning rate lr\n",
    "Cost = nn.MSELoss() # mean squared error\n",
    "\n",
    "# one iteration of Backpropagation algo\n",
    "optimizer.zero_grad()\n",
    "out = h(x)\n",
    "print(f'Forward Pass, h= {h}')\n",
    "loss = Cost(out, y)\n",
    "loss.backward()\n",
    "print(f'Backward pass, Derivatives= {h.bias.grad} {h.weight.grad}')\n",
    "optimizer.step()\n",
    "print(f'Weights update, w= {h.bias.detach().numpy()} {h.weight.detach().numpy()}')"
   ]
  },
  {
   "cell_type": "markdown",
   "id": "abfaac81-88ee-44eb-b8a3-5cf2912d5d73",
   "metadata": {},
   "source": [
    "## Linear Example"
   ]
  },
  {
   "cell_type": "code",
   "execution_count": 28,
   "id": "11a21c15-c15d-4850-96b0-5edc20f693b9",
   "metadata": {},
   "outputs": [
    {
     "data": {
      "image/png": "[encoded data removed]",
      "text/plain": [
       "<Figure size 640x480 with 1 Axes>"
      ]
     },
     "metadata": {},
     "output_type": "display_data"
    }
   ],
   "source": [
    "np.random.seed(42)\n",
    "x_data = np.sort(-2. + 4. * np.random.rand(20))\n",
    "y_data = 5. * x_data + 2.5 + np.random.randn(20)\n",
    "\n",
    "X = torch.tensor(x_data[:,np.newaxis], dtype=torch.float32)\n",
    "Y = torch.tensor(y_data[:,np.newaxis], dtype=torch.float32)\n",
    "\n",
    "# Linear regression hypothesis using Pytorch\n",
    "h = nn.Linear(1, 1, bias=True) # h = w x + b\n",
    "\n",
    "\n",
    "optimizer = optim.SGD(h.parameters(), lr = .1) # stochastic gradient descent with learning rate lr\n",
    "Cost = nn.MSELoss() # mean squared error\n",
    "\n",
    "for i in range(50):\n",
    "    optimizer.zero_grad()\n",
    "    out = h(X)\n",
    "    loss = Cost(out, Y)\n",
    "    loss.backward()\n",
    "    optimizer.step()\n",
    "\n",
    "plt.plot(x_data, y_data, 'b.')\n",
    "x = torch.tensor(np.linspace(-2.0, 2.0, 100).reshape(-1,1), dtype=torch.float32)\n",
    "y = h(x).detach().numpy()\n",
    "plt.plot(x,y,'r')\n",
    "plt.ylim([-15, 15])\n",
    "plt.xlim([-2, 2])\n",
    "plt.grid('on')\n"
   ]
  },
  {
   "cell_type": "markdown",
   "id": "eb4178a4-1b9d-48f8-a74c-4d30f9ccdb94",
   "metadata": {},
   "source": [
    "## Non-Linear Example\n",
    "\n",
    "We will design a 2-Hidden layers Neural Network to predict the following data"
   ]
  }
 ],
 "metadata": {
  "kernelspec": {
   "display_name": "Python 3 (ipykernel)",
   "language": "python",
   "name": "python3"
  },
  "language_info": {
   "codemirror_mode": {
    "name": "ipython",
    "version": 3
   },
   "file_extension": ".py",
   "mimetype": "text/x-python",
   "name": "python",
   "nbconvert_exporter": "python",
   "pygments_lexer": "ipython3",
   "version": "3.10.10"
  }
 },
 "nbformat": 4,
 "nbformat_minor": 5
}
