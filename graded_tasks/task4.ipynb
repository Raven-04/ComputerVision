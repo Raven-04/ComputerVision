{
 "cells": [
  {
   "cell_type": "markdown",
   "id": "46db14ef-c6bc-4c38-984a-f116aa88858f",
   "metadata": {},
   "source": [
    "# Graded Task\n",
    "\n",
    "In this task, you will fine-tune a pre-trained neural network to train on a custom dataset. Start by downloading train and test example images from 2–3 categories and saving them in a designated folder. Implement a custom dataset class to load these images (refer to this [tutorial](https://pytorch.org/tutorials/beginner/basics/data_tutorial.html)).\n",
    "\n",
    "Select AlexNet as your pre-trained model. Replace the final layer with a fully connected layer tailored for your dataset, and freeze all other layers. Fine-tune the model on your dataset and plot the training and testing error for analysis.\n",
    "\n",
    "[Additional Reading](https://pytorch.org/tutorials/intermediate/torchvision_tutorial.html)"
   ]
  },
  {
   "cell_type": "code",
   "execution_count": 49,
   "id": "578c9e79-6133-4205-90b4-560f777b0c75",
   "metadata": {},
   "outputs": [],
   "source": [
    "from torchvision.io import read_image\n",
    "import torch\n",
    "from torch.utils.data import Dataset\n",
    "from torch.utils.data import DataLoader\n",
    "from torchvision import datasets\n",
    "from torchvision.transforms import ToTensor\n",
    "import matplotlib.pyplot as plt\n",
    "import pandas as pd\n",
    "from torch import nn\n",
    "from torchvision import models\n",
    "from torch import optim\n",
    "import os"
   ]
  },
  {
   "cell_type": "code",
   "execution_count": 80,
   "id": "b157ed90-661f-4e81-8a20-12fedc7c0cbf",
   "metadata": {},
   "outputs": [],
   "source": [
    "# Load a Pretrained model, weights and the transforms required\n"
   ]
  },
  {
   "cell_type": "code",
   "execution_count": 75,
   "id": "287363fe-fa38-403a-8187-bb52de6d4c43",
   "metadata": {},
   "outputs": [],
   "source": [
    "# Create a custom Dataset class\n"
   ]
  },
  {
   "cell_type": "code",
   "execution_count": 76,
   "id": "30623f88-a255-444f-8d4b-bb75ef556487",
   "metadata": {},
   "outputs": [],
   "source": [
    "# Using your custom dataset class load the train and testset\n",
    "\n",
    "trainset = MyImageDataset(\"./data/train/annotations.csv\", \"./data/train\", preprocess) \n",
    "batchsize = 2\n",
    "trainloader = DataLoader(trainset, batch_size=batchsize, shuffle=True)\n",
    "\n",
    "testset = MyImageDataset(\"./data/test/annotations.csv\", \"./data/test\", preprocess) \n",
    "batchsize = 3\n",
    "testloader = DataLoader(testset, batch_size=batchsize, shuffle=True)\n"
   ]
  },
  {
   "cell_type": "code",
   "execution_count": 77,
   "id": "c5199ea3-9f0a-4971-9550-990759c76992",
   "metadata": {},
   "outputs": [],
   "source": [
    "# Define the loss function and the optimizer [see 10-cnn.ipynb]\n"
   ]
  },
  {
   "cell_type": "code",
   "execution_count": null,
   "id": "bc2c3010-9916-4ea3-9fb0-1621ffc4213b",
   "metadata": {},
   "outputs": [],
   "source": [
    "# Your Training loop [see 10-cnn.ipynb]\n"
   ]
  },
  {
   "cell_type": "code",
   "execution_count": null,
   "id": "1a25629a-51da-4768-b569-0a3797e0c525",
   "metadata": {},
   "outputs": [],
   "source": [
    "# Error analysis [see 10-cnn.ipynb]\n"
   ]
  },
  {
   "cell_type": "code",
   "execution_count": null,
   "id": "bff2ccc6-7243-4358-b97d-04011e8f4e16",
   "metadata": {},
   "outputs": [],
   "source": []
  },
  {
   "cell_type": "code",
   "execution_count": null,
   "id": "66af3550-b795-49b7-ad60-cec7f83628ef",
   "metadata": {},
   "outputs": [],
   "source": []
  },
  {
   "cell_type": "code",
   "execution_count": null,
   "id": "59268d0c-75e5-45ed-901d-718a3693fd01",
   "metadata": {},
   "outputs": [],
   "source": []
  }
 ],
 "metadata": {
  "kernelspec": {
   "display_name": "Python 3 (ipykernel)",
   "language": "python",
   "name": "python3"
  },
  "language_info": {
   "codemirror_mode": {
    "name": "ipython",
    "version": 3
   },
   "file_extension": ".py",
   "mimetype": "text/x-python",
   "name": "python",
   "nbconvert_exporter": "python",
   "pygments_lexer": "ipython3",
   "version": "3.10.10"
  }
 },
 "nbformat": 4,
 "nbformat_minor": 5
}
